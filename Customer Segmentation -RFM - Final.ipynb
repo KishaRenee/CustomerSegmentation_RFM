{
 "cells": [
  {
   "cell_type": "markdown",
   "metadata": {},
   "source": [
    "# Machine Learning Project using Online Retail dataset \n",
    "##### Prepared by: Kisha Taylor\n",
    "##### Date : Oct. 2, 2019\n",
    "\n",
    "Marketing Analytics -Unsupervised Learning clustering algorithmn.\n",
    "\n",
    "Objective : We are performing customer segmentation based on key attributes Recency, Frequency & Monetary (RFM) using K-means. \n",
    "\n"
   ]
  },
  {
   "cell_type": "markdown",
   "metadata": {},
   "source": [
    "#### What is customer segmentation and why bother ?\n",
    "**What is customer segmentation ?**\n",
    "Customer segmentation is the division of customers into various groups based on specific attributes.\n",
    "Segmenation Types may vary based on these four main characteristics/variable-types:\n",
    "    1. Demographics (eg. age, incme, gender etc.) \n",
    "    2. Geographic regions (eg. country, region, city, town etc.)\n",
    "    3. Psychographic (eg. interests, personality traits, attitudes, views )\n",
    "    4. Behaviour (eg. actual spending pattern/actual purchases)\n",
    "\n",
    "**Benefits of Sementation**\n",
    "\n",
    "Marketers segment customers because it allows them to better understand the various types of customers and \n",
    "hence better serve their needs to ultimately yield increase in revenue. Better served customers are happier customers\n",
    "and happier customers spend more leading to a more favourle company bottom-line.\n",
    "\n",
    "So, in short, if we adopt a more tailored approach to they way we market products/services to our customer \n",
    "the customers feel more valued and the company benefits financially. This bets the one-size fits all approach\n",
    "(when no differentiation is made among customers). \n",
    "\n",
    "This segmentation of customers also helps companies to identify customers that are their most valuable customers \n",
    "and hence direct more efforts at those customers and less on the customers that have been the least profitable.\n",
    "Segmentation based on behaviour (type #4 above) offers this approach where, based on attributes such as :\n",
    "    (i)   Recency (R)        - the last time a purchase was made\n",
    "    (ii)  Frequency (F)      - the cummulative number of transactions conducted.\n",
    "    (iii) Monetary Value (M) - the total cummulative amount spent.\n",
    "                                 \n",
    "This is known as **RFM segmentation and scoring.** \n",
    "\n",
    "#### Our work will be focused on RFM using K-Means Machine Learning Clustering technique.\n",
    "                                 \n"
   ]
  },
  {
   "cell_type": "markdown",
   "metadata": {},
   "source": [
    "\n",
    "### <font color =blue> Methodology for Model Building\n",
    "### Steps : \n",
    " 1. Problem Definition\n",
    " \n",
    " 2. Data Collection \n",
    "     - Dataset : Online retail dataset (source:http://archive.ics.uci.edu/ml/datasets/online+retail)\n",
    "     \n",
    " 3. Data Preparation \n",
    " \n",
    "     (i)   Data Exloration\n",
    "     \n",
    "     (ii)  Data Cleaning\n",
    "     \n",
    "     (iii)  Data Analysis\n",
    "     \n",
    "      (iv)  Feature Selection\n",
    "            - Identify Recency, Frequency & Monetary Value features (RFM)\n",
    "      \n",
    "      (v)  Data Preprocessing\n",
    "     \n",
    "           - Scale features\n",
    "           \n",
    " \n",
    " 5. Perform K-Means clustering based on RFM features\n",
    " \n",
    " 6. Choose optimal K clusters  \n",
    "           - uses Elbow method (visualization of average distance across clusters for k number of clusters,\n",
    "             choosing the cluster kn where kn+1 reflects a marginal decrease in the avg. distance )\n",
    "\n",
    "       \n",
    " 7. Identify best customers, valuable customers at highest risk of churn\n",
    " \n",
    " \n",
    " "
   ]
  },
  {
   "cell_type": "markdown",
   "metadata": {},
   "source": [
    "#### Main Python Libraries used:\n",
    "1. pandas - mainly for EDA\n",
    "2. numpy  - mainly for EDA\n",
    "3. sklearn - machine learning\n",
    "4. Matplotlib - visualizations"
   ]
  },
  {
   "cell_type": "markdown",
   "metadata": {},
   "source": [
    "### About the dataset\n",
    "According to the website for the UCI repository (ref. https://archive.ics.uci.edu/ml/datasets/Online+Retail),\n",
    "this transactional dataset reflects transactions (approx. 1 year's worth) effected between 01/12/2010 and 09/12/2011\n",
    "for a registered non-store online retail based in the UK.\n",
    "\n",
    "**Attributes** : \n",
    "\n",
    "    1. InvoiceNo   : Invoice number -uniquely identifies the transaction.\n",
    "                     - Nominal, a 6-digit integral number; Code starting with letter 'c' indicates a cancellation.  \n",
    "                                      \n",
    "    2. StockCode   : Product (item) code - uniquely identifies each product.\n",
    "                     - Nominal, a 5-digit integral number\n",
    "    3. Description: Name of the product. Nominal.\n",
    "                   \n",
    "    4. Quantity    : # of units of the product per transaction. Numeric.\n",
    "            \n",
    "    5. InvoiceDate : Date and time of the invoice (transaction date & time). Numeric.\n",
    "            \n",
    "    6. UnitPrice   : Selling price per unit in sterling.- Numeric                                    \n",
    "            \n",
    "    7. CustomerID  : Unique indentifier for each customer. Nominal, a 5-digit integral number.                                              \n",
    "    8. Country     : Country name. Nominal, Customer's country of residence.                                                                                            "
   ]
  },
  {
   "cell_type": "markdown",
   "metadata": {},
   "source": [
    "### Data Collection\n",
    "Let's load the data"
   ]
  },
  {
   "cell_type": "code",
   "execution_count": 1,
   "metadata": {},
   "outputs": [],
   "source": [
    "# Ref.: https://www.blastam.com/blog/rfm-analysis-boosts-sales\n",
    "#      https://towardsdatascience.com/find-your-best-customers-with-customer-segmentation-in-python-61d602f9eee6  \n",
    "\n",
    "# Main Ref. : https://towardsdatascience.com/apply-rfm-principles-to-cluster-customers-with-k-means-fef9bcc9ab16\n",
    "# Ref. : \"Marketing Data Science: Modeling Techniques in Predictive Analytics with R and Python by Thomas W. Miller\"\n",
    "\n",
    "import pandas as pd\n",
    "import numpy as np\n",
    "import sklearn \n",
    "import matplotlib.pyplot as plt\n",
    "import os"
   ]
  },
  {
   "cell_type": "code",
   "execution_count": 2,
   "metadata": {},
   "outputs": [
    {
     "data": {
      "text/plain": [
       "'C:\\\\Users\\\\Kisha\\\\Documents\\\\Python Scripts\\\\Class Imbalance Prob'"
      ]
     },
     "execution_count": 2,
     "metadata": {},
     "output_type": "execute_result"
    }
   ],
   "source": [
    "os.getcwd()"
   ]
  },
  {
   "cell_type": "code",
   "execution_count": 3,
   "metadata": {},
   "outputs": [],
   "source": [
    "path =  \"C:/Users/Kisha/Documents/Datasets/Online Retail.xlsx\"\n",
    "df = pd.read_excel(path)"
   ]
  },
  {
   "cell_type": "markdown",
   "metadata": {},
   "source": [
    "## Data Preparation\n",
    "#### Data Exploration"
   ]
  },
  {
   "cell_type": "code",
   "execution_count": 4,
   "metadata": {},
   "outputs": [
    {
     "data": {
      "text/html": [
       "<div>\n",
       "<style scoped>\n",
       "    .dataframe tbody tr th:only-of-type {\n",
       "        vertical-align: middle;\n",
       "    }\n",
       "\n",
       "    .dataframe tbody tr th {\n",
       "        vertical-align: top;\n",
       "    }\n",
       "\n",
       "    .dataframe thead th {\n",
       "        text-align: right;\n",
       "    }\n",
       "</style>\n",
       "<table border=\"1\" class=\"dataframe\">\n",
       "  <thead>\n",
       "    <tr style=\"text-align: right;\">\n",
       "      <th></th>\n",
       "      <th>InvoiceNo</th>\n",
       "      <th>StockCode</th>\n",
       "      <th>Description</th>\n",
       "      <th>Quantity</th>\n",
       "      <th>InvoiceDate</th>\n",
       "      <th>UnitPrice</th>\n",
       "      <th>CustomerID</th>\n",
       "      <th>Country</th>\n",
       "    </tr>\n",
       "  </thead>\n",
       "  <tbody>\n",
       "    <tr>\n",
       "      <th>0</th>\n",
       "      <td>536365</td>\n",
       "      <td>85123A</td>\n",
       "      <td>WHITE HANGING HEART T-LIGHT HOLDER</td>\n",
       "      <td>6</td>\n",
       "      <td>2010-12-01 08:26:00</td>\n",
       "      <td>2.55</td>\n",
       "      <td>17850.0</td>\n",
       "      <td>United Kingdom</td>\n",
       "    </tr>\n",
       "    <tr>\n",
       "      <th>1</th>\n",
       "      <td>536365</td>\n",
       "      <td>71053</td>\n",
       "      <td>WHITE METAL LANTERN</td>\n",
       "      <td>6</td>\n",
       "      <td>2010-12-01 08:26:00</td>\n",
       "      <td>3.39</td>\n",
       "      <td>17850.0</td>\n",
       "      <td>United Kingdom</td>\n",
       "    </tr>\n",
       "    <tr>\n",
       "      <th>2</th>\n",
       "      <td>536365</td>\n",
       "      <td>84406B</td>\n",
       "      <td>CREAM CUPID HEARTS COAT HANGER</td>\n",
       "      <td>8</td>\n",
       "      <td>2010-12-01 08:26:00</td>\n",
       "      <td>2.75</td>\n",
       "      <td>17850.0</td>\n",
       "      <td>United Kingdom</td>\n",
       "    </tr>\n",
       "    <tr>\n",
       "      <th>3</th>\n",
       "      <td>536365</td>\n",
       "      <td>84029G</td>\n",
       "      <td>KNITTED UNION FLAG HOT WATER BOTTLE</td>\n",
       "      <td>6</td>\n",
       "      <td>2010-12-01 08:26:00</td>\n",
       "      <td>3.39</td>\n",
       "      <td>17850.0</td>\n",
       "      <td>United Kingdom</td>\n",
       "    </tr>\n",
       "    <tr>\n",
       "      <th>4</th>\n",
       "      <td>536365</td>\n",
       "      <td>84029E</td>\n",
       "      <td>RED WOOLLY HOTTIE WHITE HEART.</td>\n",
       "      <td>6</td>\n",
       "      <td>2010-12-01 08:26:00</td>\n",
       "      <td>3.39</td>\n",
       "      <td>17850.0</td>\n",
       "      <td>United Kingdom</td>\n",
       "    </tr>\n",
       "  </tbody>\n",
       "</table>\n",
       "</div>"
      ],
      "text/plain": [
       "  InvoiceNo StockCode                          Description  Quantity  \\\n",
       "0    536365    85123A   WHITE HANGING HEART T-LIGHT HOLDER         6   \n",
       "1    536365     71053                  WHITE METAL LANTERN         6   \n",
       "2    536365    84406B       CREAM CUPID HEARTS COAT HANGER         8   \n",
       "3    536365    84029G  KNITTED UNION FLAG HOT WATER BOTTLE         6   \n",
       "4    536365    84029E       RED WOOLLY HOTTIE WHITE HEART.         6   \n",
       "\n",
       "          InvoiceDate  UnitPrice  CustomerID         Country  \n",
       "0 2010-12-01 08:26:00       2.55     17850.0  United Kingdom  \n",
       "1 2010-12-01 08:26:00       3.39     17850.0  United Kingdom  \n",
       "2 2010-12-01 08:26:00       2.75     17850.0  United Kingdom  \n",
       "3 2010-12-01 08:26:00       3.39     17850.0  United Kingdom  \n",
       "4 2010-12-01 08:26:00       3.39     17850.0  United Kingdom  "
      ]
     },
     "execution_count": 4,
     "metadata": {},
     "output_type": "execute_result"
    }
   ],
   "source": [
    "df.head(5)"
   ]
  },
  {
   "cell_type": "markdown",
   "metadata": {},
   "source": [
    "What is our dataset size? How big is it (# rows)?"
   ]
  },
  {
   "cell_type": "code",
   "execution_count": 5,
   "metadata": {},
   "outputs": [
    {
     "data": {
      "text/plain": [
       "(541909, 8)"
      ]
     },
     "execution_count": 5,
     "metadata": {},
     "output_type": "execute_result"
    }
   ],
   "source": [
    "df.shape"
   ]
  },
  {
   "cell_type": "code",
   "execution_count": 6,
   "metadata": {},
   "outputs": [
    {
     "data": {
      "text/html": [
       "<div>\n",
       "<style scoped>\n",
       "    .dataframe tbody tr th:only-of-type {\n",
       "        vertical-align: middle;\n",
       "    }\n",
       "\n",
       "    .dataframe tbody tr th {\n",
       "        vertical-align: top;\n",
       "    }\n",
       "\n",
       "    .dataframe thead th {\n",
       "        text-align: right;\n",
       "    }\n",
       "</style>\n",
       "<table border=\"1\" class=\"dataframe\">\n",
       "  <thead>\n",
       "    <tr style=\"text-align: right;\">\n",
       "      <th></th>\n",
       "      <th>Quantity</th>\n",
       "      <th>UnitPrice</th>\n",
       "      <th>CustomerID</th>\n",
       "    </tr>\n",
       "  </thead>\n",
       "  <tbody>\n",
       "    <tr>\n",
       "      <th>count</th>\n",
       "      <td>541909.000000</td>\n",
       "      <td>541909.000000</td>\n",
       "      <td>406829.000000</td>\n",
       "    </tr>\n",
       "    <tr>\n",
       "      <th>mean</th>\n",
       "      <td>9.552250</td>\n",
       "      <td>4.611114</td>\n",
       "      <td>15287.690570</td>\n",
       "    </tr>\n",
       "    <tr>\n",
       "      <th>std</th>\n",
       "      <td>218.081158</td>\n",
       "      <td>96.759853</td>\n",
       "      <td>1713.600303</td>\n",
       "    </tr>\n",
       "    <tr>\n",
       "      <th>min</th>\n",
       "      <td>-80995.000000</td>\n",
       "      <td>-11062.060000</td>\n",
       "      <td>12346.000000</td>\n",
       "    </tr>\n",
       "    <tr>\n",
       "      <th>25%</th>\n",
       "      <td>1.000000</td>\n",
       "      <td>1.250000</td>\n",
       "      <td>13953.000000</td>\n",
       "    </tr>\n",
       "    <tr>\n",
       "      <th>50%</th>\n",
       "      <td>3.000000</td>\n",
       "      <td>2.080000</td>\n",
       "      <td>15152.000000</td>\n",
       "    </tr>\n",
       "    <tr>\n",
       "      <th>75%</th>\n",
       "      <td>10.000000</td>\n",
       "      <td>4.130000</td>\n",
       "      <td>16791.000000</td>\n",
       "    </tr>\n",
       "    <tr>\n",
       "      <th>max</th>\n",
       "      <td>80995.000000</td>\n",
       "      <td>38970.000000</td>\n",
       "      <td>18287.000000</td>\n",
       "    </tr>\n",
       "  </tbody>\n",
       "</table>\n",
       "</div>"
      ],
      "text/plain": [
       "            Quantity      UnitPrice     CustomerID\n",
       "count  541909.000000  541909.000000  406829.000000\n",
       "mean        9.552250       4.611114   15287.690570\n",
       "std       218.081158      96.759853    1713.600303\n",
       "min    -80995.000000  -11062.060000   12346.000000\n",
       "25%         1.000000       1.250000   13953.000000\n",
       "50%         3.000000       2.080000   15152.000000\n",
       "75%        10.000000       4.130000   16791.000000\n",
       "max     80995.000000   38970.000000   18287.000000"
      ]
     },
     "execution_count": 6,
     "metadata": {},
     "output_type": "execute_result"
    }
   ],
   "source": [
    "df.describe()"
   ]
  },
  {
   "cell_type": "markdown",
   "metadata": {},
   "source": [
    "Checking to see how many transaction have a neg unit price"
   ]
  },
  {
   "cell_type": "code",
   "execution_count": 7,
   "metadata": {},
   "outputs": [
    {
     "data": {
      "text/plain": [
       "2"
      ]
     },
     "execution_count": 7,
     "metadata": {},
     "output_type": "execute_result"
    }
   ],
   "source": [
    "len(df[df[\"UnitPrice\"]<0])"
   ]
  },
  {
   "cell_type": "markdown",
   "metadata": {},
   "source": [
    "Let's delete those or rather subset for only those that have a non-negative UnitPrice"
   ]
  },
  {
   "cell_type": "code",
   "execution_count": 8,
   "metadata": {},
   "outputs": [],
   "source": [
    "df = df[df[\"UnitPrice\"]>=0]"
   ]
  },
  {
   "cell_type": "code",
   "execution_count": 9,
   "metadata": {},
   "outputs": [
    {
     "data": {
      "text/plain": [
       "InvoiceNo           0\n",
       "StockCode           0\n",
       "Description      1454\n",
       "Quantity            0\n",
       "InvoiceDate         0\n",
       "UnitPrice           0\n",
       "CustomerID     135078\n",
       "Country             0\n",
       "dtype: int64"
      ]
     },
     "execution_count": 9,
     "metadata": {},
     "output_type": "execute_result"
    }
   ],
   "source": [
    "### Let's look to see if we hae any missing values per feature\n",
    "df.isnull().sum()"
   ]
  },
  {
   "cell_type": "markdown",
   "metadata": {},
   "source": [
    "We note that we have missing values for the description and for customer ID."
   ]
  },
  {
   "cell_type": "code",
   "execution_count": 10,
   "metadata": {},
   "outputs": [
    {
     "data": {
      "text/html": [
       "<div>\n",
       "<style scoped>\n",
       "    .dataframe tbody tr th:only-of-type {\n",
       "        vertical-align: middle;\n",
       "    }\n",
       "\n",
       "    .dataframe tbody tr th {\n",
       "        vertical-align: top;\n",
       "    }\n",
       "\n",
       "    .dataframe thead th {\n",
       "        text-align: right;\n",
       "    }\n",
       "</style>\n",
       "<table border=\"1\" class=\"dataframe\">\n",
       "  <thead>\n",
       "    <tr style=\"text-align: right;\">\n",
       "      <th></th>\n",
       "      <th>InvoiceNo</th>\n",
       "      <th>StockCode</th>\n",
       "      <th>Description</th>\n",
       "      <th>Quantity</th>\n",
       "      <th>InvoiceDate</th>\n",
       "      <th>UnitPrice</th>\n",
       "      <th>CustomerID</th>\n",
       "      <th>Country</th>\n",
       "    </tr>\n",
       "  </thead>\n",
       "  <tbody>\n",
       "    <tr>\n",
       "      <th>622</th>\n",
       "      <td>536414</td>\n",
       "      <td>22139</td>\n",
       "      <td>NaN</td>\n",
       "      <td>56</td>\n",
       "      <td>2010-12-01 11:52:00</td>\n",
       "      <td>0.00</td>\n",
       "      <td>NaN</td>\n",
       "      <td>United Kingdom</td>\n",
       "    </tr>\n",
       "    <tr>\n",
       "      <th>1443</th>\n",
       "      <td>536544</td>\n",
       "      <td>21773</td>\n",
       "      <td>DECORATIVE ROSE BATHROOM BOTTLE</td>\n",
       "      <td>1</td>\n",
       "      <td>2010-12-01 14:32:00</td>\n",
       "      <td>2.51</td>\n",
       "      <td>NaN</td>\n",
       "      <td>United Kingdom</td>\n",
       "    </tr>\n",
       "    <tr>\n",
       "      <th>1444</th>\n",
       "      <td>536544</td>\n",
       "      <td>21774</td>\n",
       "      <td>DECORATIVE CATS BATHROOM BOTTLE</td>\n",
       "      <td>2</td>\n",
       "      <td>2010-12-01 14:32:00</td>\n",
       "      <td>2.51</td>\n",
       "      <td>NaN</td>\n",
       "      <td>United Kingdom</td>\n",
       "    </tr>\n",
       "    <tr>\n",
       "      <th>1445</th>\n",
       "      <td>536544</td>\n",
       "      <td>21786</td>\n",
       "      <td>POLKADOT RAIN HAT</td>\n",
       "      <td>4</td>\n",
       "      <td>2010-12-01 14:32:00</td>\n",
       "      <td>0.85</td>\n",
       "      <td>NaN</td>\n",
       "      <td>United Kingdom</td>\n",
       "    </tr>\n",
       "    <tr>\n",
       "      <th>1446</th>\n",
       "      <td>536544</td>\n",
       "      <td>21787</td>\n",
       "      <td>RAIN PONCHO RETROSPOT</td>\n",
       "      <td>2</td>\n",
       "      <td>2010-12-01 14:32:00</td>\n",
       "      <td>1.66</td>\n",
       "      <td>NaN</td>\n",
       "      <td>United Kingdom</td>\n",
       "    </tr>\n",
       "  </tbody>\n",
       "</table>\n",
       "</div>"
      ],
      "text/plain": [
       "     InvoiceNo StockCode                      Description  Quantity  \\\n",
       "622     536414     22139                              NaN        56   \n",
       "1443    536544     21773  DECORATIVE ROSE BATHROOM BOTTLE         1   \n",
       "1444    536544     21774  DECORATIVE CATS BATHROOM BOTTLE         2   \n",
       "1445    536544     21786               POLKADOT RAIN HAT          4   \n",
       "1446    536544     21787            RAIN PONCHO RETROSPOT         2   \n",
       "\n",
       "             InvoiceDate  UnitPrice  CustomerID         Country  \n",
       "622  2010-12-01 11:52:00       0.00         NaN  United Kingdom  \n",
       "1443 2010-12-01 14:32:00       2.51         NaN  United Kingdom  \n",
       "1444 2010-12-01 14:32:00       2.51         NaN  United Kingdom  \n",
       "1445 2010-12-01 14:32:00       0.85         NaN  United Kingdom  \n",
       "1446 2010-12-01 14:32:00       1.66         NaN  United Kingdom  "
      ]
     },
     "execution_count": 10,
     "metadata": {},
     "output_type": "execute_result"
    }
   ],
   "source": [
    "#### Let's examine rows where CustomerID is missing more closely. Looking at the first 5 such rows.\n",
    "\n",
    "df.loc[np.where(df[\"CustomerID\"].isnull())].head(5)\n"
   ]
  },
  {
   "cell_type": "markdown",
   "metadata": {},
   "source": [
    "We cannot use these rows that are missing customerID in our analysis.\n",
    "So for now we will filter out these rows.\n"
   ]
  },
  {
   "cell_type": "code",
   "execution_count": 26,
   "metadata": {},
   "outputs": [],
   "source": [
    "newdf = df[pd.notnull(df[\"CustomerID\"])]\n",
    "\n",
    "\n",
    "\n"
   ]
  },
  {
   "cell_type": "markdown",
   "metadata": {},
   "source": [
    "Note missing values checked again after filtering out \n",
    "those rows with missing values for CustomerID"
   ]
  },
  {
   "cell_type": "code",
   "execution_count": 27,
   "metadata": {},
   "outputs": [
    {
     "data": {
      "text/plain": [
       "InvoiceNo      0\n",
       "StockCode      0\n",
       "Description    0\n",
       "Quantity       0\n",
       "InvoiceDate    0\n",
       "UnitPrice      0\n",
       "CustomerID     0\n",
       "Country        0\n",
       "dtype: int64"
      ]
     },
     "execution_count": 27,
     "metadata": {},
     "output_type": "execute_result"
    }
   ],
   "source": [
    "newdf.isnull().sum()"
   ]
  },
  {
   "cell_type": "code",
   "execution_count": 28,
   "metadata": {},
   "outputs": [
    {
     "data": {
      "text/plain": [
       "(406829, 8)"
      ]
     },
     "execution_count": 28,
     "metadata": {},
     "output_type": "execute_result"
    }
   ],
   "source": [
    "newdf.shape"
   ]
  },
  {
   "cell_type": "markdown",
   "metadata": {},
   "source": [
    "We lost the following % of our data due to missing info. :"
   ]
  },
  {
   "cell_type": "code",
   "execution_count": 29,
   "metadata": {},
   "outputs": [
    {
     "data": {
      "text/plain": [
       "24.92641726347879"
      ]
     },
     "execution_count": 29,
     "metadata": {},
     "output_type": "execute_result"
    }
   ],
   "source": [
    "(df.shape[0]-newdf.shape[0])*100/df.shape[0]"
   ]
  },
  {
   "cell_type": "markdown",
   "metadata": {},
   "source": [
    "Let's get more familiar with our data\n",
    "by getting a feel for :\n",
    "\n",
    "    (i)   the number of different products\n",
    "    (ii)  Range of quantities purchased\n",
    "    (iii) Range of prices\n",
    "    (iv)  Number of Countries\n",
    "    (iv)  Groupings of customers by country and or by products purchased\n",
    "    "
   ]
  },
  {
   "cell_type": "markdown",
   "metadata": {},
   "source": [
    "Number of different products"
   ]
  },
  {
   "cell_type": "code",
   "execution_count": 30,
   "metadata": {},
   "outputs": [
    {
     "data": {
      "text/plain": [
       "3684"
      ]
     },
     "execution_count": 30,
     "metadata": {},
     "output_type": "execute_result"
    }
   ],
   "source": [
    "len(newdf[\"StockCode\"].unique())"
   ]
  },
  {
   "cell_type": "code",
   "execution_count": 31,
   "metadata": {},
   "outputs": [
    {
     "data": {
      "text/plain": [
       "0    85123A\n",
       "1     71053\n",
       "2    84406B\n",
       "3    84029G\n",
       "4    84029E\n",
       "Name: StockCode, dtype: object"
      ]
     },
     "execution_count": 31,
     "metadata": {},
     "output_type": "execute_result"
    }
   ],
   "source": [
    "\n",
    "newdf[\"StockCode\"].head(5)"
   ]
  },
  {
   "cell_type": "markdown",
   "metadata": {},
   "source": [
    "Top 5 products sold (by count )"
   ]
  },
  {
   "cell_type": "code",
   "execution_count": 32,
   "metadata": {},
   "outputs": [
    {
     "data": {
      "text/html": [
       "<div>\n",
       "<style scoped>\n",
       "    .dataframe tbody tr th:only-of-type {\n",
       "        vertical-align: middle;\n",
       "    }\n",
       "\n",
       "    .dataframe tbody tr th {\n",
       "        vertical-align: top;\n",
       "    }\n",
       "\n",
       "    .dataframe thead th {\n",
       "        text-align: right;\n",
       "    }\n",
       "</style>\n",
       "<table border=\"1\" class=\"dataframe\">\n",
       "  <thead>\n",
       "    <tr style=\"text-align: right;\">\n",
       "      <th></th>\n",
       "      <th>StockCode</th>\n",
       "      <th>Description</th>\n",
       "      <th>Sum of Qty sold</th>\n",
       "    </tr>\n",
       "  </thead>\n",
       "  <tbody>\n",
       "    <tr>\n",
       "      <th>2712</th>\n",
       "      <td>84077</td>\n",
       "      <td>WORLD WAR 2 GLIDERS ASSTD DESIGNS</td>\n",
       "      <td>53215</td>\n",
       "    </tr>\n",
       "    <tr>\n",
       "      <th>3586</th>\n",
       "      <td>85099B</td>\n",
       "      <td>JUMBO BAG RED RETROSPOT</td>\n",
       "      <td>45066</td>\n",
       "    </tr>\n",
       "    <tr>\n",
       "      <th>2818</th>\n",
       "      <td>84879</td>\n",
       "      <td>ASSORTED COLOUR BIRD ORNAMENT</td>\n",
       "      <td>35314</td>\n",
       "    </tr>\n",
       "    <tr>\n",
       "      <th>3593</th>\n",
       "      <td>85123A</td>\n",
       "      <td>WHITE HANGING HEART T-LIGHT HOLDER</td>\n",
       "      <td>34147</td>\n",
       "    </tr>\n",
       "    <tr>\n",
       "      <th>361</th>\n",
       "      <td>21212</td>\n",
       "      <td>PACK OF 72 RETROSPOT CAKE CASES</td>\n",
       "      <td>33409</td>\n",
       "    </tr>\n",
       "  </tbody>\n",
       "</table>\n",
       "</div>"
      ],
      "text/plain": [
       "     StockCode                         Description  Sum of Qty sold\n",
       "2712     84077   WORLD WAR 2 GLIDERS ASSTD DESIGNS            53215\n",
       "3586    85099B             JUMBO BAG RED RETROSPOT            45066\n",
       "2818     84879       ASSORTED COLOUR BIRD ORNAMENT            35314\n",
       "3593    85123A  WHITE HANGING HEART T-LIGHT HOLDER            34147\n",
       "361      21212     PACK OF 72 RETROSPOT CAKE CASES            33409"
      ]
     },
     "execution_count": 32,
     "metadata": {},
     "output_type": "execute_result"
    }
   ],
   "source": [
    "ProdSales = newdf.groupby([\"StockCode\",\"Description\"])[\"Quantity\"].aggregate('sum').reset_index().sort_values([\"Quantity\"],ascending=False)\n",
    "ProdSales.columns = [\"StockCode\",\"Description\",\"Sum of Qty sold\"]\n",
    "ProdSales.head(5)"
   ]
  },
  {
   "cell_type": "code",
   "execution_count": 33,
   "metadata": {},
   "outputs": [
    {
     "data": {
      "text/html": [
       "<div>\n",
       "<style scoped>\n",
       "    .dataframe tbody tr th:only-of-type {\n",
       "        vertical-align: middle;\n",
       "    }\n",
       "\n",
       "    .dataframe tbody tr th {\n",
       "        vertical-align: top;\n",
       "    }\n",
       "\n",
       "    .dataframe thead th {\n",
       "        text-align: right;\n",
       "    }\n",
       "</style>\n",
       "<table border=\"1\" class=\"dataframe\">\n",
       "  <thead>\n",
       "    <tr style=\"text-align: right;\">\n",
       "      <th></th>\n",
       "      <th>Country</th>\n",
       "      <th>Count of transactions per country</th>\n",
       "    </tr>\n",
       "  </thead>\n",
       "  <tbody>\n",
       "    <tr>\n",
       "      <th>35</th>\n",
       "      <td>United Kingdom</td>\n",
       "      <td>361878</td>\n",
       "    </tr>\n",
       "    <tr>\n",
       "      <th>14</th>\n",
       "      <td>Germany</td>\n",
       "      <td>9495</td>\n",
       "    </tr>\n",
       "    <tr>\n",
       "      <th>13</th>\n",
       "      <td>France</td>\n",
       "      <td>8491</td>\n",
       "    </tr>\n",
       "    <tr>\n",
       "      <th>10</th>\n",
       "      <td>EIRE</td>\n",
       "      <td>7485</td>\n",
       "    </tr>\n",
       "    <tr>\n",
       "      <th>30</th>\n",
       "      <td>Spain</td>\n",
       "      <td>2533</td>\n",
       "    </tr>\n",
       "  </tbody>\n",
       "</table>\n",
       "</div>"
      ],
      "text/plain": [
       "           Country  Count of transactions per country\n",
       "35  United Kingdom                             361878\n",
       "14         Germany                               9495\n",
       "13          France                               8491\n",
       "10            EIRE                               7485\n",
       "30           Spain                               2533"
      ]
     },
     "execution_count": 33,
     "metadata": {},
     "output_type": "execute_result"
    }
   ],
   "source": [
    "CustCountry = newdf.groupby([\"Country\"])[\"InvoiceNo\"].count().reset_index().sort_values([\"InvoiceNo\"],ascending=False)\n",
    "CustCountry.columns = [\"Country\", \"Count of transactions per country\"]\n",
    "CustCountry.head(5)"
   ]
  },
  {
   "cell_type": "markdown",
   "metadata": {},
   "source": [
    "Top 5 sales (revenue) by country"
   ]
  },
  {
   "cell_type": "code",
   "execution_count": 34,
   "metadata": {},
   "outputs": [
    {
     "name": "stderr",
     "output_type": "stream",
     "text": [
      "C:\\Users\\Kisha\\Anaconda3\\lib\\site-packages\\ipykernel_launcher.py:1: SettingWithCopyWarning: \n",
      "A value is trying to be set on a copy of a slice from a DataFrame.\n",
      "Try using .loc[row_indexer,col_indexer] = value instead\n",
      "\n",
      "See the caveats in the documentation: http://pandas.pydata.org/pandas-docs/stable/indexing.html#indexing-view-versus-copy\n",
      "  \"\"\"Entry point for launching an IPython kernel.\n"
     ]
    },
    {
     "data": {
      "text/html": [
       "<div>\n",
       "<style scoped>\n",
       "    .dataframe tbody tr th:only-of-type {\n",
       "        vertical-align: middle;\n",
       "    }\n",
       "\n",
       "    .dataframe tbody tr th {\n",
       "        vertical-align: top;\n",
       "    }\n",
       "\n",
       "    .dataframe thead th {\n",
       "        text-align: right;\n",
       "    }\n",
       "</style>\n",
       "<table border=\"1\" class=\"dataframe\">\n",
       "  <thead>\n",
       "    <tr style=\"text-align: right;\">\n",
       "      <th></th>\n",
       "      <th>Country</th>\n",
       "      <th>Total Sales $</th>\n",
       "    </tr>\n",
       "  </thead>\n",
       "  <tbody>\n",
       "    <tr>\n",
       "      <th>35</th>\n",
       "      <td>United Kingdom</td>\n",
       "      <td>6.767873e+06</td>\n",
       "    </tr>\n",
       "    <tr>\n",
       "      <th>23</th>\n",
       "      <td>Netherlands</td>\n",
       "      <td>2.846615e+05</td>\n",
       "    </tr>\n",
       "    <tr>\n",
       "      <th>10</th>\n",
       "      <td>EIRE</td>\n",
       "      <td>2.502852e+05</td>\n",
       "    </tr>\n",
       "    <tr>\n",
       "      <th>14</th>\n",
       "      <td>Germany</td>\n",
       "      <td>2.216982e+05</td>\n",
       "    </tr>\n",
       "    <tr>\n",
       "      <th>13</th>\n",
       "      <td>France</td>\n",
       "      <td>1.967128e+05</td>\n",
       "    </tr>\n",
       "  </tbody>\n",
       "</table>\n",
       "</div>"
      ],
      "text/plain": [
       "           Country  Total Sales $\n",
       "35  United Kingdom   6.767873e+06\n",
       "23     Netherlands   2.846615e+05\n",
       "10            EIRE   2.502852e+05\n",
       "14         Germany   2.216982e+05\n",
       "13          France   1.967128e+05"
      ]
     },
     "execution_count": 34,
     "metadata": {},
     "output_type": "execute_result"
    }
   ],
   "source": [
    "newdf[\"SalesAmt_per_Invoice\"] = newdf[\"UnitPrice\"] * newdf[\"Quantity\"] \n",
    "CountrySales = newdf.groupby(\"Country\")[\"SalesAmt_per_Invoice\"].aggregate(\"sum\").reset_index().sort_values([\"SalesAmt_per_Invoice\"],ascending=False)\n",
    "CountrySales.columns =[\"Country\", \"Total Sales $\"]\n",
    "CountrySales.head(5)"
   ]
  },
  {
   "cell_type": "markdown",
   "metadata": {},
   "source": [
    "Group by product type & count of customers"
   ]
  },
  {
   "cell_type": "code",
   "execution_count": 35,
   "metadata": {},
   "outputs": [
    {
     "data": {
      "text/html": [
       "<div>\n",
       "<style scoped>\n",
       "    .dataframe tbody tr th:only-of-type {\n",
       "        vertical-align: middle;\n",
       "    }\n",
       "\n",
       "    .dataframe tbody tr th {\n",
       "        vertical-align: top;\n",
       "    }\n",
       "\n",
       "    .dataframe thead th {\n",
       "        text-align: right;\n",
       "    }\n",
       "</style>\n",
       "<table border=\"1\" class=\"dataframe\">\n",
       "  <thead>\n",
       "    <tr style=\"text-align: right;\">\n",
       "      <th></th>\n",
       "      <th></th>\n",
       "      <th>CustomerID</th>\n",
       "    </tr>\n",
       "    <tr>\n",
       "      <th>StockCode</th>\n",
       "      <th>Description</th>\n",
       "      <th></th>\n",
       "    </tr>\n",
       "  </thead>\n",
       "  <tbody>\n",
       "    <tr>\n",
       "      <th>85123A</th>\n",
       "      <th>WHITE HANGING HEART T-LIGHT HOLDER</th>\n",
       "      <td>2070</td>\n",
       "    </tr>\n",
       "    <tr>\n",
       "      <th>22423</th>\n",
       "      <th>REGENCY CAKESTAND 3 TIER</th>\n",
       "      <td>1905</td>\n",
       "    </tr>\n",
       "    <tr>\n",
       "      <th>85099B</th>\n",
       "      <th>JUMBO BAG RED RETROSPOT</th>\n",
       "      <td>1662</td>\n",
       "    </tr>\n",
       "    <tr>\n",
       "      <th>84879</th>\n",
       "      <th>ASSORTED COLOUR BIRD ORNAMENT</th>\n",
       "      <td>1418</td>\n",
       "    </tr>\n",
       "    <tr>\n",
       "      <th>47566</th>\n",
       "      <th>PARTY BUNTING</th>\n",
       "      <td>1416</td>\n",
       "    </tr>\n",
       "    <tr>\n",
       "      <th>20725</th>\n",
       "      <th>LUNCH BAG RED RETROSPOT</th>\n",
       "      <td>1358</td>\n",
       "    </tr>\n",
       "    <tr>\n",
       "      <th>22720</th>\n",
       "      <th>SET OF 3 CAKE TINS PANTRY DESIGN</th>\n",
       "      <td>1232</td>\n",
       "    </tr>\n",
       "    <tr>\n",
       "      <th>POST</th>\n",
       "      <th>POSTAGE</th>\n",
       "      <td>1196</td>\n",
       "    </tr>\n",
       "    <tr>\n",
       "      <th>20727</th>\n",
       "      <th>LUNCH BAG  BLACK SKULL.</th>\n",
       "      <td>1126</td>\n",
       "    </tr>\n",
       "    <tr>\n",
       "      <th>21212</th>\n",
       "      <th>PACK OF 72 RETROSPOT CAKE CASES</th>\n",
       "      <td>1080</td>\n",
       "    </tr>\n",
       "  </tbody>\n",
       "</table>\n",
       "</div>"
      ],
      "text/plain": [
       "                                              CustomerID\n",
       "StockCode Description                                   \n",
       "85123A    WHITE HANGING HEART T-LIGHT HOLDER        2070\n",
       "22423     REGENCY CAKESTAND 3 TIER                  1905\n",
       "85099B    JUMBO BAG RED RETROSPOT                   1662\n",
       "84879     ASSORTED COLOUR BIRD ORNAMENT             1418\n",
       "47566     PARTY BUNTING                             1416\n",
       "20725     LUNCH BAG RED RETROSPOT                   1358\n",
       "22720     SET OF 3 CAKE TINS PANTRY DESIGN          1232\n",
       "POST      POSTAGE                                   1196\n",
       "20727     LUNCH BAG  BLACK SKULL.                   1126\n",
       "21212     PACK OF 72 RETROSPOT CAKE CASES           1080"
      ]
     },
     "execution_count": 35,
     "metadata": {},
     "output_type": "execute_result"
    }
   ],
   "source": [
    "pd.DataFrame(newdf.groupby([\"StockCode\",\"Description\"])[\"CustomerID\"].count()).sort_values([\"CustomerID\"],ascending=False).head(10)\n",
    "#CountrySales.columns =[\"Country\", \"Total Sales $\"]\n",
    "#CountrySales.head(5)"
   ]
  },
  {
   "cell_type": "markdown",
   "metadata": {},
   "source": [
    "Top 5 Selling products"
   ]
  },
  {
   "cell_type": "code",
   "execution_count": 36,
   "metadata": {},
   "outputs": [
    {
     "data": {
      "text/html": [
       "<div>\n",
       "<style scoped>\n",
       "    .dataframe tbody tr th:only-of-type {\n",
       "        vertical-align: middle;\n",
       "    }\n",
       "\n",
       "    .dataframe tbody tr th {\n",
       "        vertical-align: top;\n",
       "    }\n",
       "\n",
       "    .dataframe thead th {\n",
       "        text-align: right;\n",
       "    }\n",
       "</style>\n",
       "<table border=\"1\" class=\"dataframe\">\n",
       "  <thead>\n",
       "    <tr style=\"text-align: right;\">\n",
       "      <th></th>\n",
       "      <th></th>\n",
       "      <th>Quantity</th>\n",
       "    </tr>\n",
       "    <tr>\n",
       "      <th>StockCode</th>\n",
       "      <th>Description</th>\n",
       "      <th></th>\n",
       "    </tr>\n",
       "  </thead>\n",
       "  <tbody>\n",
       "    <tr>\n",
       "      <th>84077</th>\n",
       "      <th>WORLD WAR 2 GLIDERS ASSTD DESIGNS</th>\n",
       "      <td>53215</td>\n",
       "    </tr>\n",
       "    <tr>\n",
       "      <th>85099B</th>\n",
       "      <th>JUMBO BAG RED RETROSPOT</th>\n",
       "      <td>45066</td>\n",
       "    </tr>\n",
       "    <tr>\n",
       "      <th>84879</th>\n",
       "      <th>ASSORTED COLOUR BIRD ORNAMENT</th>\n",
       "      <td>35314</td>\n",
       "    </tr>\n",
       "    <tr>\n",
       "      <th>85123A</th>\n",
       "      <th>WHITE HANGING HEART T-LIGHT HOLDER</th>\n",
       "      <td>34147</td>\n",
       "    </tr>\n",
       "    <tr>\n",
       "      <th>21212</th>\n",
       "      <th>PACK OF 72 RETROSPOT CAKE CASES</th>\n",
       "      <td>33409</td>\n",
       "    </tr>\n",
       "    <tr>\n",
       "      <th>22197</th>\n",
       "      <th>POPCORN HOLDER</th>\n",
       "      <td>30504</td>\n",
       "    </tr>\n",
       "    <tr>\n",
       "      <th>23084</th>\n",
       "      <th>RABBIT NIGHT LIGHT</th>\n",
       "      <td>27094</td>\n",
       "    </tr>\n",
       "    <tr>\n",
       "      <th>22492</th>\n",
       "      <th>MINI PAINT SET VINTAGE</th>\n",
       "      <td>25880</td>\n",
       "    </tr>\n",
       "    <tr>\n",
       "      <th>22616</th>\n",
       "      <th>PACK OF 12 LONDON TISSUES</th>\n",
       "      <td>25321</td>\n",
       "    </tr>\n",
       "    <tr>\n",
       "      <th>21977</th>\n",
       "      <th>PACK OF 60 PINK PAISLEY CAKE CASES</th>\n",
       "      <td>24163</td>\n",
       "    </tr>\n",
       "  </tbody>\n",
       "</table>\n",
       "</div>"
      ],
      "text/plain": [
       "                                              Quantity\n",
       "StockCode Description                                 \n",
       "84077     WORLD WAR 2 GLIDERS ASSTD DESIGNS      53215\n",
       "85099B    JUMBO BAG RED RETROSPOT                45066\n",
       "84879     ASSORTED COLOUR BIRD ORNAMENT          35314\n",
       "85123A    WHITE HANGING HEART T-LIGHT HOLDER     34147\n",
       "21212     PACK OF 72 RETROSPOT CAKE CASES        33409\n",
       "22197     POPCORN HOLDER                         30504\n",
       "23084     RABBIT NIGHT LIGHT                     27094\n",
       "22492     MINI PAINT SET VINTAGE                 25880\n",
       "22616     PACK OF 12 LONDON TISSUES              25321\n",
       "21977     PACK OF 60 PINK PAISLEY CAKE CASES     24163"
      ]
     },
     "execution_count": 36,
     "metadata": {},
     "output_type": "execute_result"
    }
   ],
   "source": [
    "pd.DataFrame(newdf.groupby([\"StockCode\",\"Description\"])[\"Quantity\"].sum()).sort_values([\"Quantity\"],ascending=False).head(10)"
   ]
  },
  {
   "cell_type": "markdown",
   "metadata": {},
   "source": [
    "Products that have been returned in a different period \n",
    "from which they were purchsed would have an overal negative qty.\n",
    "\n",
    "This the five (5) worst selling products (reflecting net returns for that period)"
   ]
  },
  {
   "cell_type": "code",
   "execution_count": 37,
   "metadata": {},
   "outputs": [
    {
     "data": {
      "text/html": [
       "<div>\n",
       "<style scoped>\n",
       "    .dataframe tbody tr th:only-of-type {\n",
       "        vertical-align: middle;\n",
       "    }\n",
       "\n",
       "    .dataframe tbody tr th {\n",
       "        vertical-align: top;\n",
       "    }\n",
       "\n",
       "    .dataframe thead th {\n",
       "        text-align: right;\n",
       "    }\n",
       "</style>\n",
       "<table border=\"1\" class=\"dataframe\">\n",
       "  <thead>\n",
       "    <tr style=\"text-align: right;\">\n",
       "      <th></th>\n",
       "      <th></th>\n",
       "      <th>Quantity</th>\n",
       "    </tr>\n",
       "    <tr>\n",
       "      <th>StockCode</th>\n",
       "      <th>Description</th>\n",
       "      <th></th>\n",
       "    </tr>\n",
       "  </thead>\n",
       "  <tbody>\n",
       "    <tr>\n",
       "      <th>84347</th>\n",
       "      <th>ROTATING SILVER ANGELS T-LIGHT HLDR</th>\n",
       "      <td>-1460</td>\n",
       "    </tr>\n",
       "    <tr>\n",
       "      <th>D</th>\n",
       "      <th>Discount</th>\n",
       "      <td>-1194</td>\n",
       "    </tr>\n",
       "    <tr>\n",
       "      <th>21645</th>\n",
       "      <th>ASSORTED TUTTI FRUTTI ROUND BOX</th>\n",
       "      <td>-24</td>\n",
       "    </tr>\n",
       "    <tr>\n",
       "      <th>CRUK</th>\n",
       "      <th>CRUK Commission</th>\n",
       "      <td>-16</td>\n",
       "    </tr>\n",
       "    <tr>\n",
       "      <th>21144</th>\n",
       "      <th>PINK POODLE HANGING DECORATION</th>\n",
       "      <td>-12</td>\n",
       "    </tr>\n",
       "  </tbody>\n",
       "</table>\n",
       "</div>"
      ],
      "text/plain": [
       "                                               Quantity\n",
       "StockCode Description                                  \n",
       "84347     ROTATING SILVER ANGELS T-LIGHT HLDR     -1460\n",
       "D         Discount                                -1194\n",
       "21645     ASSORTED TUTTI FRUTTI ROUND BOX           -24\n",
       "CRUK      CRUK Commission                           -16\n",
       "21144     PINK POODLE HANGING DECORATION            -12"
      ]
     },
     "execution_count": 37,
     "metadata": {},
     "output_type": "execute_result"
    }
   ],
   "source": [
    "pd.DataFrame(newdf.groupby([\"StockCode\",\"Description\"])[\"Quantity\"].sum()).sort_values([\"Quantity\"],ascending=True).head(5)"
   ]
  },
  {
   "cell_type": "code",
   "execution_count": 38,
   "metadata": {},
   "outputs": [
    {
     "data": {
      "text/plain": [
       "count    406829.000000\n",
       "mean         12.061303\n",
       "std         248.693370\n",
       "min      -80995.000000\n",
       "25%           2.000000\n",
       "50%           5.000000\n",
       "75%          12.000000\n",
       "max       80995.000000\n",
       "Name: Quantity, dtype: float64"
      ]
     },
     "execution_count": 38,
     "metadata": {},
     "output_type": "execute_result"
    }
   ],
   "source": [
    "newdf[\"Quantity\"].describe()"
   ]
  },
  {
   "cell_type": "markdown",
   "metadata": {},
   "source": [
    "Note from above, most transaction have a purchase quantity below 12 \n",
    "(since 12 is at the 75th percentile)"
   ]
  },
  {
   "cell_type": "markdown",
   "metadata": {},
   "source": [
    "Visual of the range of quantity values, reflecting most transactions with the range 0 to below 10,000\n"
   ]
  },
  {
   "cell_type": "code",
   "execution_count": 39,
   "metadata": {},
   "outputs": [
    {
     "data": {
      "image/png": "[encoded data removed]",
      "text/plain": [
       "<Figure size 432x288 with 1 Axes>"
      ]
     },
     "metadata": {},
     "output_type": "display_data"
    }
   ],
   "source": [
    "plt.hist(newdf[\"Quantity\"],bins=20)\n",
    "plt.show()"
   ]
  },
  {
   "cell_type": "markdown",
   "metadata": {},
   "source": [
    "**Recall boxplot diagrams**"
   ]
  },
  {
   "attachments": {
    "image.png": {
     "image/png": "[encoded data removed]"
    }
   },
   "cell_type": "markdown",
   "metadata": {},
   "source": [
    "![image.png](attachment:image.png)"
   ]
  },
  {
   "cell_type": "markdown",
   "metadata": {},
   "source": [
    "This boxplot visualization (below) confirms that the transactions (qty.)\n",
    "typically range below 20k positve and negative.\n",
    "Note the outliers are in the 70k to 80k range with the median close to zero."
   ]
  },
  {
   "cell_type": "code",
   "execution_count": 40,
   "metadata": {},
   "outputs": [
    {
     "data": {
      "image/png": "[encoded data removed]",
      "text/plain": [
       "<Figure size 432x288 with 1 Axes>"
      ]
     },
     "metadata": {},
     "output_type": "display_data"
    }
   ],
   "source": [
    "plt.boxplot(newdf[\"Quantity\"])\n",
    "plt.show()"
   ]
  },
  {
   "cell_type": "markdown",
   "metadata": {},
   "source": [
    "Range of prices\n"
   ]
  },
  {
   "cell_type": "code",
   "execution_count": 41,
   "metadata": {},
   "outputs": [
    {
     "data": {
      "text/plain": [
       "count    406829.000000\n",
       "mean          3.460471\n",
       "std          69.315162\n",
       "min           0.000000\n",
       "25%           1.250000\n",
       "50%           1.950000\n",
       "75%           3.750000\n",
       "max       38970.000000\n",
       "Name: UnitPrice, dtype: float64"
      ]
     },
     "execution_count": 41,
     "metadata": {},
     "output_type": "execute_result"
    }
   ],
   "source": [
    "newdf[\"UnitPrice\"].describe()"
   ]
  },
  {
   "cell_type": "markdown",
   "metadata": {},
   "source": [
    "Note from statsistical description above for Unit Price\n",
    "75% of all products are priced below $3.75. \n",
    "\n",
    "The mean unit price is \\$3.46 and 50% of all products are priced below $1.95."
   ]
  },
  {
   "cell_type": "code",
   "execution_count": 42,
   "metadata": {},
   "outputs": [
    {
     "data": {
      "image/png": "[encoded data removed]",
      "text/plain": [
       "<Figure size 432x288 with 1 Axes>"
      ]
     },
     "metadata": {},
     "output_type": "display_data"
    }
   ],
   "source": [
    "plt.boxplot(newdf[\"UnitPrice\"])\n",
    "plt.show()"
   ]
  },
  {
   "cell_type": "markdown",
   "metadata": {},
   "source": [
    "Number of different countries"
   ]
  },
  {
   "cell_type": "code",
   "execution_count": 43,
   "metadata": {},
   "outputs": [
    {
     "data": {
      "text/plain": [
       "37"
      ]
     },
     "execution_count": 43,
     "metadata": {},
     "output_type": "execute_result"
    }
   ],
   "source": [
    "len(newdf[\"Country\"].unique())"
   ]
  },
  {
   "cell_type": "markdown",
   "metadata": {},
   "source": [
    "Groupings of customers by country\n",
    "(Percentage)\n"
   ]
  },
  {
   "cell_type": "code",
   "execution_count": 44,
   "metadata": {},
   "outputs": [
    {
     "data": {
      "text/html": [
       "<div>\n",
       "<style scoped>\n",
       "    .dataframe tbody tr th:only-of-type {\n",
       "        vertical-align: middle;\n",
       "    }\n",
       "\n",
       "    .dataframe tbody tr th {\n",
       "        vertical-align: top;\n",
       "    }\n",
       "\n",
       "    .dataframe thead th {\n",
       "        text-align: right;\n",
       "    }\n",
       "</style>\n",
       "<table border=\"1\" class=\"dataframe\">\n",
       "  <thead>\n",
       "    <tr style=\"text-align: right;\">\n",
       "      <th></th>\n",
       "      <th>Country</th>\n",
       "      <th>CustomerID-Count</th>\n",
       "      <th>CustomerID-Count in Perc %</th>\n",
       "    </tr>\n",
       "  </thead>\n",
       "  <tbody>\n",
       "    <tr>\n",
       "      <th>35</th>\n",
       "      <td>United Kingdom</td>\n",
       "      <td>361878</td>\n",
       "      <td>88.950886</td>\n",
       "    </tr>\n",
       "    <tr>\n",
       "      <th>14</th>\n",
       "      <td>Germany</td>\n",
       "      <td>9495</td>\n",
       "      <td>2.333904</td>\n",
       "    </tr>\n",
       "    <tr>\n",
       "      <th>13</th>\n",
       "      <td>France</td>\n",
       "      <td>8491</td>\n",
       "      <td>2.087118</td>\n",
       "    </tr>\n",
       "    <tr>\n",
       "      <th>10</th>\n",
       "      <td>EIRE</td>\n",
       "      <td>7485</td>\n",
       "      <td>1.839839</td>\n",
       "    </tr>\n",
       "    <tr>\n",
       "      <th>30</th>\n",
       "      <td>Spain</td>\n",
       "      <td>2533</td>\n",
       "      <td>0.622620</td>\n",
       "    </tr>\n",
       "    <tr>\n",
       "      <th>23</th>\n",
       "      <td>Netherlands</td>\n",
       "      <td>2371</td>\n",
       "      <td>0.582800</td>\n",
       "    </tr>\n",
       "    <tr>\n",
       "      <th>3</th>\n",
       "      <td>Belgium</td>\n",
       "      <td>2069</td>\n",
       "      <td>0.508567</td>\n",
       "    </tr>\n",
       "    <tr>\n",
       "      <th>32</th>\n",
       "      <td>Switzerland</td>\n",
       "      <td>1877</td>\n",
       "      <td>0.461373</td>\n",
       "    </tr>\n",
       "    <tr>\n",
       "      <th>26</th>\n",
       "      <td>Portugal</td>\n",
       "      <td>1480</td>\n",
       "      <td>0.363789</td>\n",
       "    </tr>\n",
       "    <tr>\n",
       "      <th>0</th>\n",
       "      <td>Australia</td>\n",
       "      <td>1259</td>\n",
       "      <td>0.309467</td>\n",
       "    </tr>\n",
       "  </tbody>\n",
       "</table>\n",
       "</div>"
      ],
      "text/plain": [
       "           Country  CustomerID-Count  CustomerID-Count in Perc %\n",
       "35  United Kingdom            361878                   88.950886\n",
       "14         Germany              9495                    2.333904\n",
       "13          France              8491                    2.087118\n",
       "10            EIRE              7485                    1.839839\n",
       "30           Spain              2533                    0.622620\n",
       "23     Netherlands              2371                    0.582800\n",
       "3          Belgium              2069                    0.508567\n",
       "32     Switzerland              1877                    0.461373\n",
       "26        Portugal              1480                    0.363789\n",
       "0        Australia              1259                    0.309467"
      ]
     },
     "execution_count": 44,
     "metadata": {},
     "output_type": "execute_result"
    }
   ],
   "source": [
    "CustCountry = newdf.groupby([\"Country\"])[\"CustomerID\"].aggregate('count').reset_index().sort_values([\"CustomerID\"],ascending=False)\n",
    "CustCountry.columns = [\"Country\",\"CustomerID-Count\"]\n",
    "CustCountry[\"CustomerID-Count in Perc %\"] = CustCountry[\"CustomerID-Count\"]*100/sum(CustCountry[\"CustomerID-Count\"])\n",
    "CustCountry.head(10)"
   ]
  },
  {
   "cell_type": "markdown",
   "metadata": {},
   "source": [
    "We will calculate each required feature starting with:\n",
    "- Recency\n",
    "Let's calculate using the report date as 1 day after the last invoice date"
   ]
  },
  {
   "cell_type": "code",
   "execution_count": 45,
   "metadata": {},
   "outputs": [
    {
     "data": {
      "text/plain": [
       "Timestamp('2011-12-09 12:50:00')"
      ]
     },
     "execution_count": 45,
     "metadata": {},
     "output_type": "execute_result"
    }
   ],
   "source": [
    "# Last invoice date\n",
    "import datetime as dt\n",
    "\n",
    "newdf[\"InvoiceDate\"].max()\n",
    "\n"
   ]
  },
  {
   "cell_type": "code",
   "execution_count": 46,
   "metadata": {},
   "outputs": [
    {
     "data": {
      "text/plain": [
       "datetime.datetime(2011, 12, 10, 0, 0)"
      ]
     },
     "execution_count": 46,
     "metadata": {},
     "output_type": "execute_result"
    }
   ],
   "source": [
    "# So, let's set our report date, from which calculations will be done to 1 day ahead.\n",
    "reportdate = dt.datetime(2011,12,10)\n",
    "reportdate"
   ]
  },
  {
   "cell_type": "code",
   "execution_count": 47,
   "metadata": {},
   "outputs": [
    {
     "data": {
      "text/html": [
       "<div>\n",
       "<style scoped>\n",
       "    .dataframe tbody tr th:only-of-type {\n",
       "        vertical-align: middle;\n",
       "    }\n",
       "\n",
       "    .dataframe tbody tr th {\n",
       "        vertical-align: top;\n",
       "    }\n",
       "\n",
       "    .dataframe thead th {\n",
       "        text-align: right;\n",
       "    }\n",
       "</style>\n",
       "<table border=\"1\" class=\"dataframe\">\n",
       "  <thead>\n",
       "    <tr style=\"text-align: right;\">\n",
       "      <th></th>\n",
       "      <th>InvoiceNo</th>\n",
       "      <th>StockCode</th>\n",
       "      <th>Description</th>\n",
       "      <th>Quantity</th>\n",
       "      <th>InvoiceDate</th>\n",
       "      <th>UnitPrice</th>\n",
       "      <th>CustomerID</th>\n",
       "      <th>Country</th>\n",
       "      <th>SalesAmt_per_Invoice</th>\n",
       "    </tr>\n",
       "  </thead>\n",
       "  <tbody>\n",
       "    <tr>\n",
       "      <th>0</th>\n",
       "      <td>536365</td>\n",
       "      <td>85123A</td>\n",
       "      <td>WHITE HANGING HEART T-LIGHT HOLDER</td>\n",
       "      <td>6</td>\n",
       "      <td>2010-12-01 08:26:00</td>\n",
       "      <td>2.55</td>\n",
       "      <td>17850.0</td>\n",
       "      <td>United Kingdom</td>\n",
       "      <td>15.30</td>\n",
       "    </tr>\n",
       "    <tr>\n",
       "      <th>1</th>\n",
       "      <td>536365</td>\n",
       "      <td>71053</td>\n",
       "      <td>WHITE METAL LANTERN</td>\n",
       "      <td>6</td>\n",
       "      <td>2010-12-01 08:26:00</td>\n",
       "      <td>3.39</td>\n",
       "      <td>17850.0</td>\n",
       "      <td>United Kingdom</td>\n",
       "      <td>20.34</td>\n",
       "    </tr>\n",
       "  </tbody>\n",
       "</table>\n",
       "</div>"
      ],
      "text/plain": [
       "  InvoiceNo StockCode                         Description  Quantity  \\\n",
       "0    536365    85123A  WHITE HANGING HEART T-LIGHT HOLDER         6   \n",
       "1    536365     71053                 WHITE METAL LANTERN         6   \n",
       "\n",
       "          InvoiceDate  UnitPrice  CustomerID         Country  \\\n",
       "0 2010-12-01 08:26:00       2.55     17850.0  United Kingdom   \n",
       "1 2010-12-01 08:26:00       3.39     17850.0  United Kingdom   \n",
       "\n",
       "   SalesAmt_per_Invoice  \n",
       "0                 15.30  \n",
       "1                 20.34  "
      ]
     },
     "execution_count": 47,
     "metadata": {},
     "output_type": "execute_result"
    }
   ],
   "source": [
    "newdf.head(2)"
   ]
  },
  {
   "cell_type": "code",
   "execution_count": 48,
   "metadata": {},
   "outputs": [
    {
     "data": {
      "text/html": [
       "<div>\n",
       "<style scoped>\n",
       "    .dataframe tbody tr th:only-of-type {\n",
       "        vertical-align: middle;\n",
       "    }\n",
       "\n",
       "    .dataframe tbody tr th {\n",
       "        vertical-align: top;\n",
       "    }\n",
       "\n",
       "    .dataframe thead th {\n",
       "        text-align: right;\n",
       "    }\n",
       "</style>\n",
       "<table border=\"1\" class=\"dataframe\">\n",
       "  <thead>\n",
       "    <tr style=\"text-align: right;\">\n",
       "      <th></th>\n",
       "      <th>CustID</th>\n",
       "      <th>R</th>\n",
       "      <th>F</th>\n",
       "      <th>M</th>\n",
       "    </tr>\n",
       "  </thead>\n",
       "  <tbody>\n",
       "    <tr>\n",
       "      <th>0</th>\n",
       "      <td>12346.0</td>\n",
       "      <td>325</td>\n",
       "      <td>2</td>\n",
       "      <td>0.00</td>\n",
       "    </tr>\n",
       "    <tr>\n",
       "      <th>1</th>\n",
       "      <td>12347.0</td>\n",
       "      <td>2</td>\n",
       "      <td>182</td>\n",
       "      <td>4310.00</td>\n",
       "    </tr>\n",
       "    <tr>\n",
       "      <th>2</th>\n",
       "      <td>12348.0</td>\n",
       "      <td>75</td>\n",
       "      <td>31</td>\n",
       "      <td>1797.24</td>\n",
       "    </tr>\n",
       "    <tr>\n",
       "      <th>3</th>\n",
       "      <td>12349.0</td>\n",
       "      <td>18</td>\n",
       "      <td>73</td>\n",
       "      <td>1757.55</td>\n",
       "    </tr>\n",
       "    <tr>\n",
       "      <th>4</th>\n",
       "      <td>12350.0</td>\n",
       "      <td>310</td>\n",
       "      <td>17</td>\n",
       "      <td>334.40</td>\n",
       "    </tr>\n",
       "  </tbody>\n",
       "</table>\n",
       "</div>"
      ],
      "text/plain": [
       "    CustID    R    F        M\n",
       "0  12346.0  325    2     0.00\n",
       "1  12347.0    2  182  4310.00\n",
       "2  12348.0   75   31  1797.24\n",
       "3  12349.0   18   73  1757.55\n",
       "4  12350.0  310   17   334.40"
      ]
     },
     "execution_count": 48,
     "metadata": {},
     "output_type": "execute_result"
    }
   ],
   "source": [
    "#newdf['InvoiceDate'] = pd.to_datetime(newdf['InvoiceDate'])\n",
    "RFM_df =newdf.groupby(\"CustomerID\").aggregate({\"InvoiceDate\" : lambda x:(reportdate-x.max()).days,\"InvoiceNo\" : lambda x:x.count(),\"SalesAmt_per_Invoice\" : lambda x:sum(x)}).reset_index()\n",
    "RFM_df.columns = [\"CustID\",\"R\",\"F\",\"M\"]\n",
    "RFM_df.head(5)"
   ]
  },
  {
   "cell_type": "markdown",
   "metadata": {},
   "source": [
    "Let's now calculate the RFM metric (scores) for each customer.\n",
    "\n",
    "We will do this by first splitting into quantiles\n",
    "then ranking the quantiles for each sub-metric (R, F & M).\n",
    "\n",
    "**Recency ranking**\n",
    "Let's rank by quartiles where the upper quartiles for the recency defned as being worse than the lower quartiles. This means that for Q1 that represents the group the lowest 25% recency score this group is the better than the Q2 which has higher recency scores. Recall, we place a higher value on customers who have purchased from us more recently (as depicted by their recency score) than customers who have purchased from us less recently.\n",
    "\n",
    "**Frequency & Monetary value ranking**\n",
    "These scores will be ranked opposite to recency since the greater the score the better or more highly we value that customer.\n"
   ]
  },
  {
   "cell_type": "code",
   "execution_count": 49,
   "metadata": {},
   "outputs": [
    {
     "data": {
      "text/plain": [
       "Index(['InvoiceNo', 'StockCode', 'Description', 'Quantity', 'InvoiceDate',\n",
       "       'UnitPrice', 'CustomerID', 'Country', 'SalesAmt_per_Invoice'],\n",
       "      dtype='object')"
      ]
     },
     "execution_count": 49,
     "metadata": {},
     "output_type": "execute_result"
    }
   ],
   "source": [
    "newdf.columns"
   ]
  },
  {
   "cell_type": "markdown",
   "metadata": {},
   "source": [
    "Let's find out the levels of Recency , Freq. & Monetray value for each quantile Q1,Q2 & Q3"
   ]
  },
  {
   "cell_type": "code",
   "execution_count": 50,
   "metadata": {},
   "outputs": [
    {
     "name": "stdout",
     "output_type": "stream",
     "text": [
      "        CustID      R      F          M\n",
      "0.25  13812.75   16.0   17.0   293.3625\n",
      "0.50  15300.50   50.0   42.0   648.0750\n",
      "0.75  16778.25  143.0  102.0  1611.7250\n",
      "\n",
      "\n",
      "RFM scores\n",
      "     CustID    R    F       M\n",
      "0  12346.0  325    2     0.0\n",
      "1  12347.0    2  182  4310.0\n"
     ]
    }
   ],
   "source": [
    "qrt = RFM_df.quantile(q=[0.25,0.5,0.75])\n",
    "qrt.columns =[\"CustID\",\"R\",\"F\",\"M\"]\n",
    "\n",
    "Rqrt = qrt[\"R\"]\n",
    "Fqrt = qrt[\"F\"]\n",
    "MVqrt = qrt[\"M\"]\n",
    "\n",
    "print(qrt)\n",
    "print(\"\\n\")\n",
    "\n",
    "print(\"RFM scores\\n\",RFM_df.head(2))\n"
   ]
  },
  {
   "cell_type": "markdown",
   "metadata": {},
   "source": [
    "Let's further rank 1 to 4 for the quantiles as described earlier.\n",
    "\n"
   ]
  },
  {
   "cell_type": "code",
   "execution_count": 51,
   "metadata": {},
   "outputs": [
    {
     "name": "stdout",
     "output_type": "stream",
     "text": [
      "    CustID    R    F        M\n",
      "0  12346.0  325    2     0.00\n",
      "1  12347.0    2  182  4310.00\n",
      "2  12348.0   75   31  1797.24\n",
      "3  12349.0   18   73  1757.55\n",
      "4  12350.0  310   17   334.40\n"
     ]
    }
   ],
   "source": [
    "copyRFM = RFM_df\n",
    "print(copyRFM.head(5))"
   ]
  },
  {
   "cell_type": "code",
   "execution_count": 53,
   "metadata": {},
   "outputs": [
    {
     "name": "stdout",
     "output_type": "stream",
     "text": [
      "    CustID    R    F        M\n",
      "0  12346.0  325    2     0.00\n",
      "1  12347.0    2  182  4310.00\n",
      "2  12348.0   75   31  1797.24\n",
      "3  12349.0   18   73  1757.55\n",
      "4  12350.0  310   17   334.40\n",
      "    CustID    R    F        M\n",
      "0  12346.0  325    2     0.00\n",
      "1  12347.0    2  182  4310.00\n",
      "2  12348.0   75   31  1797.24\n",
      "3  12349.0   18   73  1757.55\n",
      "4  12350.0  310   17   334.40\n"
     ]
    }
   ],
   "source": [
    "\n",
    "rk = RFM_df\n",
    "print(rk.head(5))\n",
    "print(RFM_df.head(5))"
   ]
  },
  {
   "cell_type": "markdown",
   "metadata": {},
   "source": [
    "#### Recall, as explained earlier, the lowest rank is the best for each metric"
   ]
  },
  {
   "cell_type": "code",
   "execution_count": 54,
   "metadata": {},
   "outputs": [],
   "source": [
    "def myfun(x,mtype):\n",
    "    \n",
    "    if mtype == \"R\":\n",
    "        if (x <= qrt.loc[0.25][mtype]):\n",
    "            rank = 1\n",
    "            return(rank)\n",
    "    \n",
    "        elif ((x > qrt.loc[0.25][mtype]) & (x <= qrt.loc[0.5][mtype])):\n",
    "            rank = 2\n",
    "            return(rank)\n",
    "    \n",
    "        elif ((x > qrt.loc[0.5][mtype]) & (x <= qrt.loc[0.75][mtype])):\n",
    "            rank = 3\n",
    "            return(rank)\n",
    "\n",
    "        elif (x > qrt.loc[0.75][mtype]) :\n",
    "            rank = 4\n",
    "            return(rank)\n",
    "    else:\n",
    "        if (x <= qrt.loc[0.25][mtype]):\n",
    "            rank = 4\n",
    "            return(rank)\n",
    "    \n",
    "        elif ((x > qrt.loc[0.25][mtype]) & (x <= qrt.loc[0.5][mtype])):\n",
    "            rank = 3\n",
    "            return(rank)\n",
    "    \n",
    "        elif ((x > qrt.loc[0.5][mtype]) & (x <= qrt.loc[0.75][mtype])):\n",
    "            rank = 2\n",
    "            return(rank)\n",
    "\n",
    "        elif (x > qrt.loc[0.75][mtype]) :\n",
    "            rank = 1\n",
    "            return(rank)\n",
    "         \n",
    "rk[\"R\"] = rk[\"R\"].apply(myfun,args=\"R\").values\n",
    "rk[\"F\"] = rk[\"F\"].apply(myfun,args=\"F\").values\n",
    "rk[\"M\"] = rk[\"M\"].apply(myfun,args=\"M\").values"
   ]
  },
  {
   "cell_type": "code",
   "execution_count": 55,
   "metadata": {},
   "outputs": [],
   "source": [
    "#rk.head(5)\n",
    "\n",
    "rk[\"RFM\"] = rk[\"R\"].map(str)+ rk[\"F\"].map(str) + rk[\"M\"].map(str)\n"
   ]
  },
  {
   "cell_type": "code",
   "execution_count": 56,
   "metadata": {},
   "outputs": [
    {
     "data": {
      "text/html": [
       "<div>\n",
       "<style scoped>\n",
       "    .dataframe tbody tr th:only-of-type {\n",
       "        vertical-align: middle;\n",
       "    }\n",
       "\n",
       "    .dataframe tbody tr th {\n",
       "        vertical-align: top;\n",
       "    }\n",
       "\n",
       "    .dataframe thead th {\n",
       "        text-align: right;\n",
       "    }\n",
       "</style>\n",
       "<table border=\"1\" class=\"dataframe\">\n",
       "  <thead>\n",
       "    <tr style=\"text-align: right;\">\n",
       "      <th></th>\n",
       "      <th>CustID</th>\n",
       "      <th>R</th>\n",
       "      <th>F</th>\n",
       "      <th>M</th>\n",
       "      <th>RFM</th>\n",
       "    </tr>\n",
       "  </thead>\n",
       "  <tbody>\n",
       "    <tr>\n",
       "      <th>0</th>\n",
       "      <td>12346.0</td>\n",
       "      <td>4</td>\n",
       "      <td>4</td>\n",
       "      <td>4</td>\n",
       "      <td>444</td>\n",
       "    </tr>\n",
       "    <tr>\n",
       "      <th>1</th>\n",
       "      <td>12347.0</td>\n",
       "      <td>1</td>\n",
       "      <td>1</td>\n",
       "      <td>1</td>\n",
       "      <td>111</td>\n",
       "    </tr>\n",
       "    <tr>\n",
       "      <th>2</th>\n",
       "      <td>12348.0</td>\n",
       "      <td>3</td>\n",
       "      <td>3</td>\n",
       "      <td>1</td>\n",
       "      <td>331</td>\n",
       "    </tr>\n",
       "    <tr>\n",
       "      <th>3</th>\n",
       "      <td>12349.0</td>\n",
       "      <td>2</td>\n",
       "      <td>2</td>\n",
       "      <td>1</td>\n",
       "      <td>221</td>\n",
       "    </tr>\n",
       "    <tr>\n",
       "      <th>4</th>\n",
       "      <td>12350.0</td>\n",
       "      <td>4</td>\n",
       "      <td>4</td>\n",
       "      <td>3</td>\n",
       "      <td>443</td>\n",
       "    </tr>\n",
       "  </tbody>\n",
       "</table>\n",
       "</div>"
      ],
      "text/plain": [
       "    CustID  R  F  M  RFM\n",
       "0  12346.0  4  4  4  444\n",
       "1  12347.0  1  1  1  111\n",
       "2  12348.0  3  3  1  331\n",
       "3  12349.0  2  2  1  221\n",
       "4  12350.0  4  4  3  443"
      ]
     },
     "execution_count": 56,
     "metadata": {},
     "output_type": "execute_result"
    }
   ],
   "source": [
    "rk.head(5)"
   ]
  },
  {
   "cell_type": "code",
   "execution_count": 57,
   "metadata": {},
   "outputs": [
    {
     "data": {
      "text/plain": [
       "array([3, 2, 1, ..., 2, 2, 0])"
      ]
     },
     "execution_count": 57,
     "metadata": {},
     "output_type": "execute_result"
    }
   ],
   "source": [
    "from sklearn.cluster import KMeans\n",
    "\n",
    "kmeans = KMeans(n_clusters=4, init='k-means++', random_state=0)\n",
    "\n",
    "clusters = kmeans.fit_predict(rk.iloc[:,1:5])\n",
    "clusters"
   ]
  },
  {
   "cell_type": "code",
   "execution_count": 58,
   "metadata": {},
   "outputs": [
    {
     "data": {
      "text/html": [
       "<div>\n",
       "<style scoped>\n",
       "    .dataframe tbody tr th:only-of-type {\n",
       "        vertical-align: middle;\n",
       "    }\n",
       "\n",
       "    .dataframe tbody tr th {\n",
       "        vertical-align: top;\n",
       "    }\n",
       "\n",
       "    .dataframe thead th {\n",
       "        text-align: right;\n",
       "    }\n",
       "</style>\n",
       "<table border=\"1\" class=\"dataframe\">\n",
       "  <thead>\n",
       "    <tr style=\"text-align: right;\">\n",
       "      <th></th>\n",
       "      <th>CustID</th>\n",
       "      <th>R</th>\n",
       "      <th>F</th>\n",
       "      <th>M</th>\n",
       "      <th>RFM</th>\n",
       "      <th>ClusterIndx</th>\n",
       "    </tr>\n",
       "  </thead>\n",
       "  <tbody>\n",
       "    <tr>\n",
       "      <th>0</th>\n",
       "      <td>12346.0</td>\n",
       "      <td>4</td>\n",
       "      <td>4</td>\n",
       "      <td>4</td>\n",
       "      <td>444</td>\n",
       "      <td>3</td>\n",
       "    </tr>\n",
       "    <tr>\n",
       "      <th>1</th>\n",
       "      <td>12347.0</td>\n",
       "      <td>1</td>\n",
       "      <td>1</td>\n",
       "      <td>1</td>\n",
       "      <td>111</td>\n",
       "      <td>2</td>\n",
       "    </tr>\n",
       "    <tr>\n",
       "      <th>2</th>\n",
       "      <td>12348.0</td>\n",
       "      <td>3</td>\n",
       "      <td>3</td>\n",
       "      <td>1</td>\n",
       "      <td>331</td>\n",
       "      <td>1</td>\n",
       "    </tr>\n",
       "    <tr>\n",
       "      <th>3</th>\n",
       "      <td>12349.0</td>\n",
       "      <td>2</td>\n",
       "      <td>2</td>\n",
       "      <td>1</td>\n",
       "      <td>221</td>\n",
       "      <td>0</td>\n",
       "    </tr>\n",
       "    <tr>\n",
       "      <th>4</th>\n",
       "      <td>12350.0</td>\n",
       "      <td>4</td>\n",
       "      <td>4</td>\n",
       "      <td>3</td>\n",
       "      <td>443</td>\n",
       "      <td>3</td>\n",
       "    </tr>\n",
       "  </tbody>\n",
       "</table>\n",
       "</div>"
      ],
      "text/plain": [
       "    CustID  R  F  M  RFM  ClusterIndx\n",
       "0  12346.0  4  4  4  444            3\n",
       "1  12347.0  1  1  1  111            2\n",
       "2  12348.0  3  3  1  331            1\n",
       "3  12349.0  2  2  1  221            0\n",
       "4  12350.0  4  4  3  443            3"
      ]
     },
     "execution_count": 58,
     "metadata": {},
     "output_type": "execute_result"
    }
   ],
   "source": [
    "rk[\"ClusterIndx\"] = clusters\n",
    "rk.head(5)"
   ]
  },
  {
   "cell_type": "markdown",
   "metadata": {},
   "source": [
    "##### Choosing optimal K clusters :\n",
    "           - uses Elbow method (visualization of average distance across clusters for k number of clusters,\n",
    "             choosing the cluster kn where kn+1 reflects a marginal decrease in the avg. distance )"
   ]
  },
  {
   "cell_type": "code",
   "execution_count": 59,
   "metadata": {},
   "outputs": [
    {
     "name": "stdout",
     "output_type": "stream",
     "text": [
      "[105.01030869294542, 52.74187689279378, 30.424566307170487, 9.053430012633756, 7.872599089379112, 6.838711380099015, 5.829369723762046, 5.129785658136272, 3.9452358631617064]\n"
     ]
    },
    {
     "data": {
      "image/png": "[encoded data removed]",
      "text/plain": [
       "<Figure size 432x288 with 1 Axes>"
      ]
     },
     "metadata": {},
     "output_type": "display_data"
    }
   ],
   "source": [
    "# Finding Optimal clusters\n",
    "# Using elbow method\n",
    "#https://www.geeksforgeeks.org/elbow-method-for-optimal-value-of-k-in-kmeans/\n",
    "from scipy.spatial.distance import cdist\n",
    "\n",
    "TotDist = [] \n",
    "X = rk.iloc[:,1:5]\n",
    "Npts = X.shape[0]\n",
    "\n",
    "K = range(1,10) \n",
    "  \n",
    "for k in K: \n",
    "    kM = KMeans(n_clusters=k).fit(X) \n",
    "    kM.fit(X)     \n",
    "    TotDist.append(sum(np.min(cdist(X, kM.cluster_centers_, \n",
    "                      'euclidean'),axis=1)) / Npts) \n",
    "    \n",
    "print(TotDist)\n",
    "plt.plot(K,TotDist)\n",
    "plt.show()\n"
   ]
  },
  {
   "cell_type": "markdown",
   "metadata": {},
   "source": [
    "##### Optimal K is the pt after which the avg. of TotDist does not decrease by much, soon flattens out \"at the elbow\".\n",
    "This optmal K for us is K= 4 (as shown in the graph above)"
   ]
  },
  {
   "cell_type": "code",
   "execution_count": 60,
   "metadata": {},
   "outputs": [
    {
     "data": {
      "text/html": [
       "<div>\n",
       "<style scoped>\n",
       "    .dataframe tbody tr th:only-of-type {\n",
       "        vertical-align: middle;\n",
       "    }\n",
       "\n",
       "    .dataframe tbody tr th {\n",
       "        vertical-align: top;\n",
       "    }\n",
       "\n",
       "    .dataframe thead th {\n",
       "        text-align: right;\n",
       "    }\n",
       "</style>\n",
       "<table border=\"1\" class=\"dataframe\">\n",
       "  <thead>\n",
       "    <tr style=\"text-align: right;\">\n",
       "      <th></th>\n",
       "      <th>CustID</th>\n",
       "      <th>R</th>\n",
       "      <th>F</th>\n",
       "      <th>M</th>\n",
       "      <th>RFM</th>\n",
       "      <th>ClusterIndx</th>\n",
       "    </tr>\n",
       "  </thead>\n",
       "  <tbody>\n",
       "    <tr>\n",
       "      <th>3</th>\n",
       "      <td>12349.0</td>\n",
       "      <td>2</td>\n",
       "      <td>2</td>\n",
       "      <td>1</td>\n",
       "      <td>221</td>\n",
       "      <td>0</td>\n",
       "    </tr>\n",
       "    <tr>\n",
       "      <th>5</th>\n",
       "      <td>12352.0</td>\n",
       "      <td>2</td>\n",
       "      <td>2</td>\n",
       "      <td>2</td>\n",
       "      <td>222</td>\n",
       "      <td>0</td>\n",
       "    </tr>\n",
       "    <tr>\n",
       "      <th>9</th>\n",
       "      <td>12356.0</td>\n",
       "      <td>2</td>\n",
       "      <td>2</td>\n",
       "      <td>1</td>\n",
       "      <td>221</td>\n",
       "      <td>0</td>\n",
       "    </tr>\n",
       "    <tr>\n",
       "      <th>2</th>\n",
       "      <td>12348.0</td>\n",
       "      <td>3</td>\n",
       "      <td>3</td>\n",
       "      <td>1</td>\n",
       "      <td>331</td>\n",
       "      <td>1</td>\n",
       "    </tr>\n",
       "    <tr>\n",
       "      <th>1</th>\n",
       "      <td>12347.0</td>\n",
       "      <td>1</td>\n",
       "      <td>1</td>\n",
       "      <td>1</td>\n",
       "      <td>111</td>\n",
       "      <td>2</td>\n",
       "    </tr>\n",
       "    <tr>\n",
       "      <th>0</th>\n",
       "      <td>12346.0</td>\n",
       "      <td>4</td>\n",
       "      <td>4</td>\n",
       "      <td>4</td>\n",
       "      <td>444</td>\n",
       "      <td>3</td>\n",
       "    </tr>\n",
       "    <tr>\n",
       "      <th>4</th>\n",
       "      <td>12350.0</td>\n",
       "      <td>4</td>\n",
       "      <td>4</td>\n",
       "      <td>3</td>\n",
       "      <td>443</td>\n",
       "      <td>3</td>\n",
       "    </tr>\n",
       "    <tr>\n",
       "      <th>6</th>\n",
       "      <td>12353.0</td>\n",
       "      <td>4</td>\n",
       "      <td>4</td>\n",
       "      <td>4</td>\n",
       "      <td>444</td>\n",
       "      <td>3</td>\n",
       "    </tr>\n",
       "    <tr>\n",
       "      <th>7</th>\n",
       "      <td>12354.0</td>\n",
       "      <td>4</td>\n",
       "      <td>2</td>\n",
       "      <td>2</td>\n",
       "      <td>422</td>\n",
       "      <td>3</td>\n",
       "    </tr>\n",
       "    <tr>\n",
       "      <th>8</th>\n",
       "      <td>12355.0</td>\n",
       "      <td>4</td>\n",
       "      <td>4</td>\n",
       "      <td>3</td>\n",
       "      <td>443</td>\n",
       "      <td>3</td>\n",
       "    </tr>\n",
       "  </tbody>\n",
       "</table>\n",
       "</div>"
      ],
      "text/plain": [
       "    CustID  R  F  M  RFM  ClusterIndx\n",
       "3  12349.0  2  2  1  221            0\n",
       "5  12352.0  2  2  2  222            0\n",
       "9  12356.0  2  2  1  221            0\n",
       "2  12348.0  3  3  1  331            1\n",
       "1  12347.0  1  1  1  111            2\n",
       "0  12346.0  4  4  4  444            3\n",
       "4  12350.0  4  4  3  443            3\n",
       "6  12353.0  4  4  4  444            3\n",
       "7  12354.0  4  2  2  422            3\n",
       "8  12355.0  4  4  3  443            3"
      ]
     },
     "execution_count": 60,
     "metadata": {},
     "output_type": "execute_result"
    }
   ],
   "source": [
    "rk.head(10).sort_values(\"ClusterIndx\")"
   ]
  },
  {
   "cell_type": "code",
   "execution_count": 65,
   "metadata": {},
   "outputs": [],
   "source": [
    "rk[\"ClusterName\"]  =  rk[\"ClusterIndx\"]\n",
    "rk.loc[rk[\"ClusterIndx\"]==3,\"ClusterName\"] = 4\n",
    "rk.loc[rk[\"ClusterIndx\"]==2,\"ClusterName\"] = 1\n",
    "rk.loc[rk[\"ClusterIndx\"]==1,\"ClusterName\"] = 3\n",
    "rk.loc[rk[\"ClusterIndx\"]==0,\"ClusterName\"] = 2\n",
    "\n",
    "rk[\"ClusterDesc\"]  =  rk[\"ClusterIndx\"]\n",
    "rk.loc[rk[\"ClusterIndx\"]==3,\"ClusterDesc\"] = \"Worst- Low Budget, rare shopper & near churn\"\n",
    "rk.loc[rk[\"ClusterIndx\"]==2,\"ClusterDesc\"] = \"Best - Gotta Keep\"\n",
    "rk.loc[rk[\"ClusterIndx\"]==1,\"ClusterDesc\"] = \"Low Budget, rare shopper\"\n",
    "rk.loc[rk[\"ClusterIndx\"]==0,\"ClusterDesc\"] = \"2nd Best - Loyal Low Budget Spender\"\n"
   ]
  },
  {
   "cell_type": "code",
   "execution_count": 66,
   "metadata": {},
   "outputs": [
    {
     "data": {
      "text/html": [
       "<div>\n",
       "<style scoped>\n",
       "    .dataframe tbody tr th:only-of-type {\n",
       "        vertical-align: middle;\n",
       "    }\n",
       "\n",
       "    .dataframe tbody tr th {\n",
       "        vertical-align: top;\n",
       "    }\n",
       "\n",
       "    .dataframe thead th {\n",
       "        text-align: right;\n",
       "    }\n",
       "</style>\n",
       "<table border=\"1\" class=\"dataframe\">\n",
       "  <thead>\n",
       "    <tr style=\"text-align: right;\">\n",
       "      <th></th>\n",
       "      <th>CustID</th>\n",
       "      <th>R</th>\n",
       "      <th>F</th>\n",
       "      <th>M</th>\n",
       "      <th>RFM</th>\n",
       "      <th>ClusterIndx</th>\n",
       "      <th>ClusterName</th>\n",
       "      <th>ClusterDesc</th>\n",
       "    </tr>\n",
       "  </thead>\n",
       "  <tbody>\n",
       "    <tr>\n",
       "      <th>3</th>\n",
       "      <td>12349.0</td>\n",
       "      <td>2</td>\n",
       "      <td>2</td>\n",
       "      <td>1</td>\n",
       "      <td>221</td>\n",
       "      <td>0</td>\n",
       "      <td>2</td>\n",
       "      <td>2nd Best - Loyal Low Budget Spender</td>\n",
       "    </tr>\n",
       "    <tr>\n",
       "      <th>5</th>\n",
       "      <td>12352.0</td>\n",
       "      <td>2</td>\n",
       "      <td>2</td>\n",
       "      <td>2</td>\n",
       "      <td>222</td>\n",
       "      <td>0</td>\n",
       "      <td>2</td>\n",
       "      <td>2nd Best - Loyal Low Budget Spender</td>\n",
       "    </tr>\n",
       "    <tr>\n",
       "      <th>9</th>\n",
       "      <td>12356.0</td>\n",
       "      <td>2</td>\n",
       "      <td>2</td>\n",
       "      <td>1</td>\n",
       "      <td>221</td>\n",
       "      <td>0</td>\n",
       "      <td>2</td>\n",
       "      <td>2nd Best - Loyal Low Budget Spender</td>\n",
       "    </tr>\n",
       "    <tr>\n",
       "      <th>1</th>\n",
       "      <td>12347.0</td>\n",
       "      <td>1</td>\n",
       "      <td>1</td>\n",
       "      <td>1</td>\n",
       "      <td>111</td>\n",
       "      <td>2</td>\n",
       "      <td>1</td>\n",
       "      <td>Best - Gotta Keep</td>\n",
       "    </tr>\n",
       "    <tr>\n",
       "      <th>2</th>\n",
       "      <td>12348.0</td>\n",
       "      <td>3</td>\n",
       "      <td>3</td>\n",
       "      <td>1</td>\n",
       "      <td>331</td>\n",
       "      <td>1</td>\n",
       "      <td>3</td>\n",
       "      <td>Low Budget, rare shopper</td>\n",
       "    </tr>\n",
       "    <tr>\n",
       "      <th>0</th>\n",
       "      <td>12346.0</td>\n",
       "      <td>4</td>\n",
       "      <td>4</td>\n",
       "      <td>4</td>\n",
       "      <td>444</td>\n",
       "      <td>3</td>\n",
       "      <td>4</td>\n",
       "      <td>Worst- Low Budget, rare shopper &amp; near churn</td>\n",
       "    </tr>\n",
       "    <tr>\n",
       "      <th>4</th>\n",
       "      <td>12350.0</td>\n",
       "      <td>4</td>\n",
       "      <td>4</td>\n",
       "      <td>3</td>\n",
       "      <td>443</td>\n",
       "      <td>3</td>\n",
       "      <td>4</td>\n",
       "      <td>Worst- Low Budget, rare shopper &amp; near churn</td>\n",
       "    </tr>\n",
       "    <tr>\n",
       "      <th>6</th>\n",
       "      <td>12353.0</td>\n",
       "      <td>4</td>\n",
       "      <td>4</td>\n",
       "      <td>4</td>\n",
       "      <td>444</td>\n",
       "      <td>3</td>\n",
       "      <td>4</td>\n",
       "      <td>Worst- Low Budget, rare shopper &amp; near churn</td>\n",
       "    </tr>\n",
       "    <tr>\n",
       "      <th>7</th>\n",
       "      <td>12354.0</td>\n",
       "      <td>4</td>\n",
       "      <td>2</td>\n",
       "      <td>2</td>\n",
       "      <td>422</td>\n",
       "      <td>3</td>\n",
       "      <td>4</td>\n",
       "      <td>Worst- Low Budget, rare shopper &amp; near churn</td>\n",
       "    </tr>\n",
       "    <tr>\n",
       "      <th>8</th>\n",
       "      <td>12355.0</td>\n",
       "      <td>4</td>\n",
       "      <td>4</td>\n",
       "      <td>3</td>\n",
       "      <td>443</td>\n",
       "      <td>3</td>\n",
       "      <td>4</td>\n",
       "      <td>Worst- Low Budget, rare shopper &amp; near churn</td>\n",
       "    </tr>\n",
       "  </tbody>\n",
       "</table>\n",
       "</div>"
      ],
      "text/plain": [
       "    CustID  R  F  M  RFM  ClusterIndx  ClusterName  \\\n",
       "3  12349.0  2  2  1  221            0            2   \n",
       "5  12352.0  2  2  2  222            0            2   \n",
       "9  12356.0  2  2  1  221            0            2   \n",
       "1  12347.0  1  1  1  111            2            1   \n",
       "2  12348.0  3  3  1  331            1            3   \n",
       "0  12346.0  4  4  4  444            3            4   \n",
       "4  12350.0  4  4  3  443            3            4   \n",
       "6  12353.0  4  4  4  444            3            4   \n",
       "7  12354.0  4  2  2  422            3            4   \n",
       "8  12355.0  4  4  3  443            3            4   \n",
       "\n",
       "                                    ClusterDesc  \n",
       "3           2nd Best - Loyal Low Budget Spender  \n",
       "5           2nd Best - Loyal Low Budget Spender  \n",
       "9           2nd Best - Loyal Low Budget Spender  \n",
       "1                             Best - Gotta Keep  \n",
       "2                      Low Budget, rare shopper  \n",
       "0  Worst- Low Budget, rare shopper & near churn  \n",
       "4  Worst- Low Budget, rare shopper & near churn  \n",
       "6  Worst- Low Budget, rare shopper & near churn  \n",
       "7  Worst- Low Budget, rare shopper & near churn  \n",
       "8  Worst- Low Budget, rare shopper & near churn  "
      ]
     },
     "execution_count": 66,
     "metadata": {},
     "output_type": "execute_result"
    }
   ],
   "source": [
    "rk.head(10).sort_values(\"ClusterDesc\")"
   ]
  },
  {
   "cell_type": "code",
   "execution_count": 67,
   "metadata": {},
   "outputs": [],
   "source": [
    "# Let's count the number of customers in each segment\n",
    "rf_df = rk.groupby([\"ClusterDesc\"])[\"CustID\"].aggregate(\"count\").reset_index().sort_values(\"CustID\")\n",
    "rf_df.columns = [\"ClusterDesc\",\"Count_Of_CustID\"]\n",
    "rf_df[\"Perc_Cust\"] = rf_df[\"Count_Of_CustID\"]*100/rf_df[\"Count_Of_CustID\"].sum()\n"
   ]
  },
  {
   "cell_type": "code",
   "execution_count": 68,
   "metadata": {},
   "outputs": [
    {
     "data": {
      "text/html": [
       "<div>\n",
       "<style scoped>\n",
       "    .dataframe tbody tr th:only-of-type {\n",
       "        vertical-align: middle;\n",
       "    }\n",
       "\n",
       "    .dataframe tbody tr th {\n",
       "        vertical-align: top;\n",
       "    }\n",
       "\n",
       "    .dataframe thead th {\n",
       "        text-align: right;\n",
       "    }\n",
       "</style>\n",
       "<table border=\"1\" class=\"dataframe\">\n",
       "  <thead>\n",
       "    <tr style=\"text-align: right;\">\n",
       "      <th></th>\n",
       "      <th>ClusterDesc</th>\n",
       "      <th>Count_Of_CustID</th>\n",
       "      <th>Perc_Cust</th>\n",
       "    </tr>\n",
       "  </thead>\n",
       "  <tbody>\n",
       "    <tr>\n",
       "      <th>2</th>\n",
       "      <td>Low Budget, rare shopper</td>\n",
       "      <td>1064</td>\n",
       "      <td>24.336688</td>\n",
       "    </tr>\n",
       "    <tr>\n",
       "      <th>3</th>\n",
       "      <td>Worst- Low Budget, rare shopper &amp; near churn</td>\n",
       "      <td>1085</td>\n",
       "      <td>24.817017</td>\n",
       "    </tr>\n",
       "    <tr>\n",
       "      <th>1</th>\n",
       "      <td>Best - Gotta Keep</td>\n",
       "      <td>1096</td>\n",
       "      <td>25.068618</td>\n",
       "    </tr>\n",
       "    <tr>\n",
       "      <th>0</th>\n",
       "      <td>2nd Best - Loyal Low Budget Spender</td>\n",
       "      <td>1127</td>\n",
       "      <td>25.777676</td>\n",
       "    </tr>\n",
       "  </tbody>\n",
       "</table>\n",
       "</div>"
      ],
      "text/plain": [
       "                                    ClusterDesc  Count_Of_CustID  Perc_Cust\n",
       "2                      Low Budget, rare shopper             1064  24.336688\n",
       "3  Worst- Low Budget, rare shopper & near churn             1085  24.817017\n",
       "1                             Best - Gotta Keep             1096  25.068618\n",
       "0           2nd Best - Loyal Low Budget Spender             1127  25.777676"
      ]
     },
     "execution_count": 68,
     "metadata": {},
     "output_type": "execute_result"
    }
   ],
   "source": [
    "rf_df"
   ]
  },
  {
   "cell_type": "markdown",
   "metadata": {},
   "source": [
    "##### Conclusion\n",
    "We have segmented our customer base into 4 distinct groups shown above.\n",
    "The group names indicate the value of the customer. \n",
    "\n",
    "Note also, that the groups are roughly evenly divided. \n",
    "We can now focus our marketing efforts mainly towrds our higher valued customer groups :\n",
    "    (i) \"Best- Gotta keep\" \n",
    "    (ii) \"2nd Best - Loyal Low Budget Spender\"\n",
    "Given that we now know the recency, frequency and total spent amount for these customers we can \n",
    "tailor our marketing accordingly.\n",
    "\n",
    "\n",
    "\n"
   ]
  },
  {
   "cell_type": "markdown",
   "metadata": {},
   "source": [
    "##### The End\n"
   ]
  },
  {
   "cell_type": "code",
   "execution_count": null,
   "metadata": {},
   "outputs": [],
   "source": []
  }
 ],
 "metadata": {
  "kernelspec": {
   "display_name": "Python 3",
   "language": "python",
   "name": "python3"
  },
  "language_info": {
   "codemirror_mode": {
    "name": "ipython",
    "version": 3
   },
   "file_extension": ".py",
   "mimetype": "text/x-python",
   "name": "python",
   "nbconvert_exporter": "python",
   "pygments_lexer": "ipython3",
   "version": "3.6.5"
  }
 },
 "nbformat": 4,
 "nbformat_minor": 2
}
